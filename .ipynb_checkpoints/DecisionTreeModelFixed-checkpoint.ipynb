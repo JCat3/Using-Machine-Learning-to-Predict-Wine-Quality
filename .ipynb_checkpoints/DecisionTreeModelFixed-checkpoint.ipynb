{
 "cells": [
  {
   "cell_type": "markdown",
   "id": "64e6a191",
   "metadata": {},
   "source": [
    "# Import libraries"
   ]
  },
  {
   "cell_type": "code",
   "execution_count": null,
   "id": "5532ea43",
   "metadata": {},
   "outputs": [],
   "source": [
    "from sklearn import tree\n",
    "import pandas as pd\n",
    "import numpy as np\n",
    "from sklearn.tree import DecisionTreeClassifier\n",
    "from sklearn.model_selection import train_test_split\n",
    "from matplotlib import pyplot as plt\n",
    "from sklearn.datasets import make_classification\n",
    "from sklearn.metrics import confusion_matrix, ConfusionMatrixDisplay"
   ]
  },
  {
   "cell_type": "markdown",
   "id": "4ac58541",
   "metadata": {},
   "source": [
    "# Import Data"
   ]
  },
  {
   "cell_type": "code",
   "execution_count": null,
   "id": "4f0c903e",
   "metadata": {},
   "outputs": [],
   "source": [
    "red_df = pd.read_csv(\"Data/winequality-red.csv\", delimiter=\",\")\n",
    "white_df = pd.read_csv(\"Data/winequality-white.csv\", delimiter=\",\")  "
   ]
  },
  {
   "cell_type": "code",
   "execution_count": null,
   "id": "a2732629",
   "metadata": {},
   "outputs": [],
   "source": [
    "red_df.head()\n",
    "#red_df['quality'].value_counts()"
   ]
  },
  {
   "cell_type": "code",
   "execution_count": null,
   "id": "13060e28",
   "metadata": {},
   "outputs": [],
   "source": [
    "white_df.head()\n",
    "#white_df['quality'].value_counts()"
   ]
  },
  {
   "cell_type": "markdown",
   "id": "0effc974",
   "metadata": {},
   "source": [
    "# Train Test Split"
   ]
  },
  {
   "cell_type": "code",
   "execution_count": null,
   "id": "7a6e2461",
   "metadata": {},
   "outputs": [],
   "source": [
    "red_X = red_df.drop(columns = \"quality\")\n",
    "white_X = white_df.drop(columns = \"quality\")"
   ]
  },
  {
   "cell_type": "code",
   "execution_count": null,
   "id": "85260ec9",
   "metadata": {},
   "outputs": [],
   "source": [
    "red_y = red_df[\"quality\"]\n",
    "white_y = white_df[\"quality\"]"
   ]
  },
  {
   "cell_type": "code",
   "execution_count": null,
   "id": "561a9ba3",
   "metadata": {},
   "outputs": [],
   "source": [
    "X_train_red, X_test_red, y_train_red, y_test_red = train_test_split(red_X, red_y, stratify=red_y, random_state=42)\n",
    "X_train_white, X_test_white, y_train_white, y_test_white = train_test_split(white_X, white_y, stratify=white_y, random_state=42)"
   ]
  },
  {
   "cell_type": "code",
   "execution_count": null,
   "id": "5e317c89",
   "metadata": {},
   "outputs": [],
   "source": [
    "number_list = np.array(y_train_white)\n",
    "(unique, counts) = np.unique(number_list, return_counts=True)\n",
    "frequencies = np.asarray((unique, counts)).T\n",
    "frequencies"
   ]
  },
  {
   "cell_type": "code",
   "execution_count": null,
   "id": "d058e79c",
   "metadata": {},
   "outputs": [],
   "source": [
    "number_list = np.array(y_test_white)\n",
    "(unique, counts) = np.unique(number_list, return_counts=True)\n",
    "frequencies = np.asarray((unique, counts)).T\n",
    "frequencies"
   ]
  },
  {
   "cell_type": "markdown",
   "id": "a65d1b9f",
   "metadata": {},
   "source": [
    "# Decision Tree Model"
   ]
  },
  {
   "cell_type": "code",
   "execution_count": null,
   "id": "271d110a",
   "metadata": {},
   "outputs": [],
   "source": [
    "# Red wine\n",
    "red_clf = DecisionTreeClassifier()\n",
    "red_clf = red_clf.fit(X_train_red, y_train_red)\n",
    "red_clf.score(X_train_red, y_train_red)"
   ]
  },
  {
   "cell_type": "code",
   "execution_count": null,
   "id": "62107c6c",
   "metadata": {},
   "outputs": [],
   "source": [
    "red_clf.score(X_test_red, y_test_red)"
   ]
  },
  {
   "cell_type": "code",
   "execution_count": null,
   "id": "545dccc0",
   "metadata": {},
   "outputs": [],
   "source": [
    "# White wine\n",
    "white_clf = DecisionTreeClassifier()\n",
    "white_clf = white_clf.fit(X_train_white, y_train_white)\n",
    "white_clf.score(X_train_white, y_train_white)"
   ]
  },
  {
   "cell_type": "code",
   "execution_count": null,
   "id": "2f80ee59",
   "metadata": {},
   "outputs": [],
   "source": [
    "white_clf.score(X_test_white, y_test_white)"
   ]
  },
  {
   "cell_type": "markdown",
   "id": "888f5bcb",
   "metadata": {},
   "source": [
    "# Print Text Representation"
   ]
  },
  {
   "cell_type": "code",
   "execution_count": null,
   "id": "77341dd0",
   "metadata": {},
   "outputs": [],
   "source": [
    "# Red wine\n",
    "text_representation = tree.export_text(red_clf)\n",
    "print(text_representation)"
   ]
  },
  {
   "cell_type": "code",
   "execution_count": null,
   "id": "583bc2b5",
   "metadata": {},
   "outputs": [],
   "source": [
    "# White wine\n",
    "text_representation = tree.export_text(white_clf)\n",
    "print(text_representation)"
   ]
  },
  {
   "cell_type": "markdown",
   "id": "6d701826",
   "metadata": {},
   "source": [
    "# Plot the Trees"
   ]
  },
  {
   "cell_type": "code",
   "execution_count": null,
   "id": "57a2ac20",
   "metadata": {
    "scrolled": true
   },
   "outputs": [],
   "source": [
    "# Red wine\n",
    "fig = plt.figure(figsize=(50, 50))\n",
    "tree.plot_tree(red_clf, filled=True)\n",
    "#plt.savefig('red_decision_tree.png', dpi=250)\n",
    "plt.show()"
   ]
  },
  {
   "cell_type": "code",
   "execution_count": null,
   "id": "50231065",
   "metadata": {},
   "outputs": [],
   "source": [
    "# White wine\n",
    "fig = plt.figure(figsize=(50, 50))\n",
    "tree.plot_tree(white_clf, filled=True)\n",
    "#plt.savefig('white_decision_tree.png', dpi=250)\n",
    "plt.show()"
   ]
  },
  {
   "cell_type": "markdown",
   "id": "d6cd6355",
   "metadata": {},
   "source": [
    "# Confusion Model"
   ]
  },
  {
   "cell_type": "code",
   "execution_count": null,
   "id": "fe05ea07",
   "metadata": {
    "scrolled": true
   },
   "outputs": [],
   "source": [
    "#import seaborn as sns\n",
    "#from sklearn.metrics import confusion_matrix\n",
    "#sns.heatmap(confusion_matrix(y_test_red, red_clf.predict(X_test_red)), annot = True, fmt=\"d\")"
   ]
  },
  {
   "cell_type": "code",
   "execution_count": null,
   "id": "405514c9",
   "metadata": {},
   "outputs": [],
   "source": [
    "# Red Wine\n",
    "predictions = red_clf.predict(X_test_red)\n",
    "cm = confusion_matrix(y_test_red, predictions, labels=red_clf.classes_)\n",
    "disp = ConfusionMatrixDisplay(confusion_matrix=cm,\n",
    "                              display_labels=red_clf.classes_)\n",
    "disp.plot()\n",
    "\n",
    "plt.show()"
   ]
  },
  {
   "cell_type": "code",
   "execution_count": null,
   "id": "2dcf7da0",
   "metadata": {},
   "outputs": [],
   "source": [
    "# White wine\n",
    "predictions = white_clf.predict(X_test_white)\n",
    "cm = confusion_matrix(y_test_white, predictions, labels=white_clf.classes_)\n",
    "disp = ConfusionMatrixDisplay(confusion_matrix=cm,\n",
    "                              display_labels=white_clf.classes_)\n",
    "disp.plot()\n",
    "\n",
    "plt.show()\n"
   ]
  },
  {
   "cell_type": "code",
   "execution_count": null,
   "id": "f71d19fc",
   "metadata": {},
   "outputs": [],
   "source": []
  }
 ],
 "metadata": {
  "kernelspec": {
   "display_name": "Python 3",
   "language": "python",
   "name": "python3"
  },
  "language_info": {
   "codemirror_mode": {
    "name": "ipython",
    "version": 3
   },
   "file_extension": ".py",
   "mimetype": "text/x-python",
   "name": "python",
   "nbconvert_exporter": "python",
   "pygments_lexer": "ipython3",
   "version": "3.8.8"
  }
 },
 "nbformat": 4,
 "nbformat_minor": 5
}
